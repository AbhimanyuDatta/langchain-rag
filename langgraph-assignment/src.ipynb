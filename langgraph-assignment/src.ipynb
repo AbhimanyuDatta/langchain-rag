{
 "cells": [
  {
   "cell_type": "markdown",
   "id": "901917db",
   "metadata": {},
   "source": [
    "### LangGraph"
   ]
  },
  {
   "cell_type": "code",
   "execution_count": 1,
   "id": "2125f80f",
   "metadata": {},
   "outputs": [
    {
     "data": {
      "text/plain": [
       "True"
      ]
     },
     "execution_count": 1,
     "metadata": {},
     "output_type": "execute_result"
    }
   ],
   "source": [
    "import os\n",
    "from dotenv import load_dotenv\n",
    "from langchain_groq import ChatGroq\n",
    "from langchain_community.document_loaders import DirectoryLoader, PyPDFLoader\n",
    "from langchain_text_splitters import RecursiveCharacterTextSplitter\n",
    "from langchain_huggingface import HuggingFaceEmbeddings\n",
    "from langchain_community.vectorstores import Chroma\n",
    "from pydantic import BaseModel, Field\n",
    "from langchain.output_parsers import PydanticOutputParser\n",
    "from typing import TypedDict, Annotated, Sequence\n",
    "from langchain_core.messages import BaseMessage\n",
    "from langchain_core.prompts import PromptTemplate\n",
    "from langchain_core.output_parsers import StrOutputParser\n",
    "from langchain_core.runnables import RunnablePassthrough\n",
    "from IPython.display import Image, display\n",
    "from langgraph.graph import StateGraph, END\n",
    "from langchain_community.tools import TavilySearchResults\n",
    "import operator\n",
    "\n",
    "\n",
    "load_dotenv()"
   ]
  },
  {
   "cell_type": "code",
   "execution_count": 2,
   "id": "6df7566d",
   "metadata": {},
   "outputs": [],
   "source": [
    "loader = DirectoryLoader(path='data', glob='./*.pdf', loader_cls=PyPDFLoader)\n",
    "docs = loader.load()\n",
    "\n",
    "splitter = RecursiveCharacterTextSplitter(chunk_size=200, chunk_overlap=50)\n",
    "split_text = splitter.split_documents(documents=docs)\n",
    "\n",
    "embeddings = HuggingFaceEmbeddings(model_name='BAAI/bge-small-en')\n",
    "\n",
    "vectorstore = Chroma.from_documents(split_text, embeddings)\n",
    "\n",
    "vectorstore.add_documents(documents=split_text)\n",
    "\n",
    "retriever = vectorstore.as_retriever()\n",
    "\n",
    "model = ChatGroq(model='gemma2-9b-it')"
   ]
  },
  {
   "cell_type": "code",
   "execution_count": 3,
   "id": "aa799364",
   "metadata": {},
   "outputs": [],
   "source": [
    "class State(TypedDict):\n",
    "    query: str\n",
    "    retry_counter: int = 0\n",
    "    messages: Annotated[Sequence[BaseMessage], operator.add]\n",
    "    source: Annotated[Sequence[BaseMessage], operator.add]\n",
    "    validation_score: Annotated[Sequence[BaseMessage], operator.add]"
   ]
  },
  {
   "cell_type": "code",
   "execution_count": 4,
   "id": "90b391a8",
   "metadata": {},
   "outputs": [],
   "source": [
    "class TopicSelectionParser(BaseModel):\n",
    "    topic: str = Field(description='Selected topic')\n",
    "    reasoning: str = Field(description='Reasoning behind topic selection')\n",
    "    \n",
    "parser = PydanticOutputParser(pydantic_object=TopicSelectionParser)"
   ]
  },
  {
   "cell_type": "code",
   "execution_count": 5,
   "id": "0aa5d9c7",
   "metadata": {},
   "outputs": [],
   "source": [
    "def supervisor(state: State) -> State:\n",
    "    print('-- Supervisor --')\n",
    "    retry_counter = state['retry_counter']\n",
    "    retry_counter += 1\n",
    "    state['retry_counter'] = retry_counter\n",
    "    \n",
    "    query = state['query']\n",
    "    template = '''\n",
    "    Your task is to classify the given user query to one of the following categories: [Finance, GDP, Unrelated].\n",
    "    Only respond with the category name and nothing else.\n",
    "    \n",
    "    User query: {query}\n",
    "    {format_instructions}\n",
    "    '''\n",
    "    \n",
    "    prompt = PromptTemplate(\n",
    "        template=template,\n",
    "        input_variables=['query'],\n",
    "        partial_variables={'format_instructions': parser.get_format_instructions()}\n",
    "    )\n",
    "    \n",
    "    chain = prompt | model | parser\n",
    "    \n",
    "    response = chain.invoke({'query': query})\n",
    "    \n",
    "    # print(f'Parsed response: {response}')\n",
    "    \n",
    "    state['messages'] = [response.topic]\n",
    "    state['source'] = ['SUPERVISOR']\n",
    "    \n",
    "    return state\n",
    "    "
   ]
  },
  {
   "cell_type": "code",
   "execution_count": 6,
   "id": "9e25a768",
   "metadata": {},
   "outputs": [],
   "source": [
    "def router(state: State):\n",
    "    print('-- Router --')\n",
    "    message = state['messages'][-1]\n",
    "    source = state['source'][-1]\n",
    "    # print(f'Recent message: {message} from source: {source}')\n",
    "    if 'finance' in message.lower():\n",
    "        return 'llm'\n",
    "    elif 'gdp' in message.lower():\n",
    "        return 'rag'\n",
    "    return 'web_search'"
   ]
  },
  {
   "cell_type": "code",
   "execution_count": 7,
   "id": "b0292fa2",
   "metadata": {},
   "outputs": [],
   "source": [
    "def llm(state: State) -> State:\n",
    "    print('-- LLM --')\n",
    "    query = state['query']\n",
    "    prompt = f'You are an expert in explaining financial terms. Answer the following question to the best of your ability. Do not stray from the financial world. If you don\\'t know the answer, just say \\'NA\\', do not make up any answer. The question is {query}'\n",
    "    \n",
    "    response = model.invoke(prompt)\n",
    "    # print(f'Response: {response}')\n",
    "    state['messages'] = [response.content]\n",
    "    state['source'] = ['LLM']\n",
    "    \n",
    "    return state"
   ]
  },
  {
   "cell_type": "code",
   "execution_count": 8,
   "id": "8fe73ab4",
   "metadata": {},
   "outputs": [],
   "source": [
    "def format_docs(docs):\n",
    "    return '\\n\\n'.join(doc.page_content for doc in docs)"
   ]
  },
  {
   "cell_type": "code",
   "execution_count": 9,
   "id": "7623e80b",
   "metadata": {},
   "outputs": [],
   "source": [
    "def rag(state: State) -> State:\n",
    "    print('-- RAG --')\n",
    "    query = state['query']\n",
    "    \n",
    "    prompt = PromptTemplate(\n",
    "        template='''\n",
    "        You are an assistant for question-answer task. Use the following pieces of retrieved context to answer the question. If you don't know the answer, just say 'NA', don't make up any answer. Use three sentences maximum and keep the answer concise.\\n Question: {question} \\nContext: {context} \\nAnswer:\n",
    "        ''',\n",
    "        input_variables=['context', 'question']\n",
    "    )\n",
    "    \n",
    "    rag_chain = (\n",
    "        {'context': retriever | format_docs, 'question': RunnablePassthrough()}\n",
    "        | prompt\n",
    "        | model\n",
    "        | StrOutputParser()\n",
    "    )\n",
    "    \n",
    "    response = rag_chain.invoke(query)\n",
    "    # print(f'Response from RAG: {response}')\n",
    "    \n",
    "    state['messages'] = [response]\n",
    "    state['source'] = ['RAG']\n",
    "    return state"
   ]
  },
  {
   "cell_type": "code",
   "execution_count": 10,
   "id": "159f4be0",
   "metadata": {},
   "outputs": [],
   "source": [
    "tavily_search = TavilySearchResults(\n",
    "    max_results=3,\n",
    "    search_depth='basic',\n",
    "    include_images=False\n",
    ")"
   ]
  },
  {
   "cell_type": "code",
   "execution_count": 11,
   "id": "d8f3a099",
   "metadata": {},
   "outputs": [],
   "source": [
    "def web_search(state: State):\n",
    "    print('-- WEB --')\n",
    "    query = state['query']\n",
    "    response = tavily_search.run(query)\n",
    "    # print(f'Response: {response}')\n",
    "    state['messages'] = [response[0]['content']]\n",
    "    state['source'] = ['WEB']\n",
    "    \n",
    "    return state"
   ]
  },
  {
   "cell_type": "code",
   "execution_count": 12,
   "id": "6a883805",
   "metadata": {},
   "outputs": [],
   "source": [
    "def validate(state: State) -> State:\n",
    "    print('-- VALIDATOR --')\n",
    "    query = state['query']\n",
    "    message = state['messages'][-1]\n",
    "    template = f'You are given a question and an answer. Your task is to give a confidence score based on the relationship between them. If they are completely unrelated return 0.0 and if they are aligned return 1.0. If they are related provide a number between 0 and 1 with a single precision decimal. Return only the score and nothing else. \\nQuestion: {query} \\nAnswer: {message}'\n",
    "    \n",
    "    prompt = PromptTemplate(\n",
    "        template=template,\n",
    "        input_variables=['query', 'answer']\n",
    "    )\n",
    "    \n",
    "    chain = prompt | model | StrOutputParser()\n",
    "    \n",
    "    response = chain.invoke({'query': query, 'answer': message})\n",
    "    # print(f'Response: {response}')\n",
    "    state['validation_score'] = [float(str(response).strip())]\n",
    "    state['source'] = ['VALIDATOR']\n",
    "    \n",
    "    return state\n",
    "    "
   ]
  },
  {
   "cell_type": "code",
   "execution_count": 13,
   "id": "d27a372d",
   "metadata": {},
   "outputs": [],
   "source": [
    "def route_validator(state: State):\n",
    "    score = state['validation_score'][-1]\n",
    "    if score >= 0.7 or state['retry_counter'] == 3:\n",
    "        return END\n",
    "    return 'supervisor'\n",
    "    "
   ]
  },
  {
   "cell_type": "code",
   "execution_count": 14,
   "id": "9ce7ec96",
   "metadata": {},
   "outputs": [],
   "source": [
    "workflow = StateGraph(State)\n",
    "\n",
    "workflow.add_node('supervisor', supervisor)\n",
    "workflow.add_node('llm', llm)\n",
    "workflow.add_node('rag', rag)\n",
    "workflow.add_node('web_search', web_search)\n",
    "workflow.add_node('validator', validate)\n",
    "\n",
    "workflow.set_entry_point('supervisor')\n",
    "\n",
    "workflow.add_conditional_edges(\n",
    "    'supervisor',\n",
    "    router,\n",
    "    ['llm', 'rag', 'web_search']\n",
    ")\n",
    "\n",
    "workflow.add_edge('llm', 'validator')\n",
    "workflow.add_edge('rag', 'validator')\n",
    "workflow.add_edge('web_search', 'validator')\n",
    "\n",
    "workflow.add_conditional_edges(\n",
    "    'validator', \n",
    "    route_validator,\n",
    "    ['supervisor', END]\n",
    ")\n",
    "\n",
    "graph = workflow.compile()"
   ]
  },
  {
   "cell_type": "code",
   "execution_count": 15,
   "id": "53e6ef87",
   "metadata": {},
   "outputs": [
    {
     "data": {
      "image/png": "[encoded data removed]",
      "text/plain": [
       "<IPython.core.display.Image object>"
      ]
     },
     "metadata": {},
     "output_type": "display_data"
    }
   ],
   "source": [
    "img_bytes = graph.get_graph().draw_mermaid_png()\n",
    "with open('workflow.png', 'wb') as f:\n",
    "    f.write(img_bytes)\n",
    "display(Image(img_bytes))"
   ]
  },
  {
   "cell_type": "code",
   "execution_count": 16,
   "id": "dc12737e",
   "metadata": {},
   "outputs": [],
   "source": [
    "def display_result(result):\n",
    "    print(f'Message: {result['messages'][-1]} \\nScore: {result['validation_score'][-1]}')"
   ]
  },
  {
   "cell_type": "code",
   "execution_count": 17,
   "id": "82b5ea72",
   "metadata": {},
   "outputs": [
    {
     "name": "stdout",
     "output_type": "stream",
     "text": [
      "-- Supervisor --\n",
      "-- Router --\n",
      "-- RAG --\n",
      "-- VALIDATOR --\n",
      "Message: China's GDP is significantly larger than Germany's.  China's 2023 nominal GDP is estimated to be between $17.8 and $18.4 trillion, while Germany's is $4.526 trillion.  The difference in GDP reflects the size and economic output of each country. \n",
      " \n",
      "Score: 1.0\n"
     ]
    }
   ],
   "source": [
    "state = {\n",
    "    'query': 'Compare Germany and China\\'s GDP',\n",
    "    'messages': [],\n",
    "    'source': [],\n",
    "    'retry_counter': 0\n",
    "}\n",
    "\n",
    "result = graph.invoke(state)\n",
    "display_result(result)"
   ]
  },
  {
   "cell_type": "code",
   "execution_count": 18,
   "id": "1cd71d21",
   "metadata": {},
   "outputs": [
    {
     "name": "stdout",
     "output_type": "stream",
     "text": [
      "-- Supervisor --\n",
      "-- Router --\n",
      "-- WEB --\n",
      "-- VALIDATOR --\n",
      "-- Supervisor --\n",
      "-- Router --\n",
      "-- WEB --\n",
      "-- VALIDATOR --\n",
      "-- Supervisor --\n",
      "-- Router --\n",
      "-- WEB --\n",
      "-- VALIDATOR --\n",
      "Message: It was in 1869 that George Washington's face first appeared on the one dollar bill. The design of the dollar changed quite a bit up until 1963 when the bill we recognize today was first created. Unlike most of the rest of our paper money, the one dollar bill has not been redesigned since then and there are no plans to do so. \n",
      "Score: 0.0\n"
     ]
    }
   ],
   "source": [
    "state = {\n",
    "    'query': 'What does George do with the US dollars?',\n",
    "    'messages': [],\n",
    "    'source': [],\n",
    "    'retry_counter': 0\n",
    "}\n",
    "\n",
    "result = graph.invoke(state)\n",
    "display_result(result)"
   ]
  },
  {
   "cell_type": "code",
   "execution_count": null,
   "id": "528d65ba",
   "metadata": {},
   "outputs": [],
   "source": []
  }
 ],
 "metadata": {
  "kernelspec": {
   "display_name": "Python 3",
   "language": "python",
   "name": "python3"
  },
  "language_info": {
   "codemirror_mode": {
    "name": "ipython",
    "version": 3
   },
   "file_extension": ".py",
   "mimetype": "text/x-python",
   "name": "python",
   "nbconvert_exporter": "python",
   "pygments_lexer": "ipython3",
   "version": "3.12.0"
  }
 },
 "nbformat": 4,
 "nbformat_minor": 5
}
